{
 "cells": [
  {
   "cell_type": "code",
   "execution_count": null,
   "metadata": {},
   "outputs": [],
   "source": [
    "'''\n",
    "\n",
    "Author: Luca Pedrelli\n",
    "l.pedrelli@deeplearningitalia.com\n",
    "lucapedrelli@gmail.com\n",
    "\n",
    "Exercice: MLP from scratch\n",
    "\n",
    "NB: This file is realized exclusively for educational purposes\n",
    "\n",
    "'''\n",
    "\n",
    "import warnings\n",
    "warnings.filterwarnings(\"ignore\")\n",
    "\n",
    "import os\n",
    "os.environ[\"CUDA_VISIBLE_DEVICES\"]=\"-1\"\n",
    "\n",
    "from matplotlib import pylab\n",
    "\n",
    "import keras\n",
    "import numpy as np\n",
    "\n",
    "np.random.seed(7)\n",
    "\n",
    "# Mean Squared Error\n",
    "def MSE(X,Y):\n",
    "    return  np.mean((X-Y)**2)"
   ]
  },
  {
   "cell_type": "code",
   "execution_count": null,
   "metadata": {},
   "outputs": [],
   "source": [
    "# load dataset\n",
    "from keras.datasets import mnist\n",
    "(x_train, y_train), (x_test, y_test) = mnist.load_data()"
   ]
  },
  {
   "cell_type": "code",
   "execution_count": null,
   "metadata": {},
   "outputs": [],
   "source": [
    "pylab.imshow(x_train[0,:,:])"
   ]
  },
  {
   "cell_type": "code",
   "execution_count": null,
   "metadata": {},
   "outputs": [],
   "source": [
    "pylab.imshow(x_train[1,:,:])"
   ]
  },
  {
   "cell_type": "code",
   "execution_count": null,
   "metadata": {},
   "outputs": [],
   "source": [
    "x_train.shape, y_train.shape"
   ]
  },
  {
   "cell_type": "code",
   "execution_count": null,
   "metadata": {},
   "outputs": [],
   "source": [
    "x_train = x_train.reshape((x_train.shape[0], x_train.shape[1]*x_train.shape[2]))\n",
    "x_test = x_test.reshape((x_test.shape[0], x_test.shape[1]*x_test.shape[2]))"
   ]
  },
  {
   "cell_type": "code",
   "execution_count": null,
   "metadata": {},
   "outputs": [],
   "source": [
    "x_train.shape, x_test.shape"
   ]
  },
  {
   "cell_type": "code",
   "execution_count": null,
   "metadata": {},
   "outputs": [],
   "source": [
    "inputs = np.concatenate([x_train, x_test], axis=0).T.astype('float32')\n",
    "targets = np.concatenate([y_train, y_test], axis=0).T.astype('float32')"
   ]
  },
  {
   "cell_type": "code",
   "execution_count": null,
   "metadata": {},
   "outputs": [],
   "source": [
    "inputs.shape, targets.shape"
   ]
  },
  {
   "cell_type": "code",
   "execution_count": null,
   "metadata": {},
   "outputs": [],
   "source": [
    "targets = keras.utils.to_categorical(targets, num_classes=None).T"
   ]
  },
  {
   "cell_type": "code",
   "execution_count": null,
   "metadata": {},
   "outputs": [],
   "source": [
    "TR_indexes = range(0,50)\n",
    "VL_indexes = range(50,60)\n",
    "TS_indexes = range(60,70)\n",
    "Full_TR_indexes = list(TR_indexes) + list(VL_indexes)\n",
    "Ninputs = inputs.shape[0]\n",
    "Noutputs = targets.shape[0]\n"
   ]
  },
  {
   "cell_type": "code",
   "execution_count": null,
   "metadata": {},
   "outputs": [],
   "source": [
    "# Create network: initialize weights from [-1,1]\n",
    "Nlayers = 2\n",
    "Neurons = 100\n",
    "\n",
    "W = []\n",
    "layers = range(Nlayers)\n",
    "for l in layers:\n",
    "    if len(layers) == 1:\n",
    "        W.append(np.random.uniform(-1,1, (Noutputs, Ninputs+1)))\n",
    "    elif l == 0:\n",
    "        W.append(np.random.uniform(-1,1, (Neurons, Ninputs+1)))\n",
    "    elif l < Nlayers-1:\n",
    "        W.append(np.random.uniform(-1,1, (Neurons, Neurons+1)))\n",
    "    else:\n",
    "        W.append(np.random.uniform(-1,1, (Noutputs, Neurons+1))) "
   ]
  },
  {
   "cell_type": "markdown",
   "metadata": {},
   "source": [
    "$O^{(L)} = \\mathbf{tanh}(W_{L} O^{(l-1)})$"
   ]
  },
  {
   "cell_type": "code",
   "execution_count": null,
   "metadata": {},
   "outputs": [],
   "source": [
    "# Compute layers outputs\n",
    "def forward_pass(W, inputs):\n",
    "    otuputs = []\n",
    "    # for all layers in W ...\n",
    "        \n",
    "    return otuputs"
   ]
  },
  {
   "cell_type": "code",
   "execution_count": null,
   "metadata": {},
   "outputs": [],
   "source": [
    "# Compute a gradient descent pass on a sample input\n",
    "def backward_pass(W, sample_input, targets):\n",
    "\n",
    "    outputs = forward_pass(W, sample_input)\n",
    "    \n",
    "    deltas = []\n",
    "    dWs = []\n",
    "\n",
    "    # for l in reversed(range(len(W))):\n",
    "    \n",
    "        # delta = np.zeros(W[l].shape[0])\n",
    "        # dW = np.zeros(W[l].shape)\n",
    "        \n",
    "        # for k in range(W[l].shape[0]):\n",
    "        \n",
    "            # if l == Nlayers-1:\n",
    "                # compute delta\n",
    "                \n",
    "            # else:\n",
    "                # compute delta\n",
    "                \n",
    "            # for i in range(W[l].shape[1]):\n",
    "                # compute dW\n",
    "        \n",
    " \n",
    "        #deltas.append(delta)\n",
    "        #dWs.append(dW)\n",
    "    \n",
    "    return dWs\n"
   ]
  },
  {
   "cell_type": "code",
   "execution_count": null,
   "metadata": {},
   "outputs": [],
   "source": [
    "# leraning rate\n",
    "lr = 0.0001\n",
    "epochs = 10\n",
    "errors = []\n",
    "\n",
    "for epoch in range(epochs):\n",
    "    print(epoch)\n",
    "    for p in Full_TR_indexes:\n",
    "        dWs = backward_pass(W, inputs[:,p:p+1], targets[:,p:p+1])\n",
    "        for l in reversed(range(len(W))):\n",
    "            pass # gradient descent W = W + lr * dWs \n",
    "\n",
    "    outputs = forward_pass(W, inputs)[-1]\n",
    "    errors.append(MSE(outputs[:, Full_TR_indexes], targets[:, Full_TR_indexes]))"
   ]
  },
  {
   "cell_type": "code",
   "execution_count": null,
   "metadata": {},
   "outputs": [],
   "source": [
    "inputs[:,p:p+1].shape"
   ]
  },
  {
   "cell_type": "code",
   "execution_count": null,
   "metadata": {},
   "outputs": [],
   "source": [
    "# Plot Learning Curve\n",
    "pylab.plot(range(len(errors)),errors)"
   ]
  },
  {
   "cell_type": "code",
   "execution_count": null,
   "metadata": {},
   "outputs": [],
   "source": [
    "errors"
   ]
  },
  {
   "cell_type": "code",
   "execution_count": null,
   "metadata": {},
   "outputs": [],
   "source": [
    "# Training Loss Error\n",
    "MSE(forward_pass(W, inputs)[-1][:,Full_TR_indexes],targets[:,Full_TR_indexes])"
   ]
  },
  {
   "cell_type": "code",
   "execution_count": null,
   "metadata": {},
   "outputs": [],
   "source": [
    "#Train accuracy\n",
    "np.mean(np.argmax(forward_pass(W, inputs)[-1][:,Full_TR_indexes], axis=0)==np.argmax(targets[:,Full_TR_indexes], axis=0))"
   ]
  },
  {
   "cell_type": "code",
   "execution_count": null,
   "metadata": {},
   "outputs": [],
   "source": []
  }
 ],
 "metadata": {
  "kernelspec": {
   "display_name": "Python 3",
   "language": "python",
   "name": "python3"
  },
  "language_info": {
   "codemirror_mode": {
    "name": "ipython",
    "version": 3
   },
   "file_extension": ".py",
   "mimetype": "text/x-python",
   "name": "python",
   "nbconvert_exporter": "python",
   "pygments_lexer": "ipython3",
   "version": "3.6.8"
  },
  "varInspector": {
   "cols": {
    "lenName": 16,
    "lenType": 16,
    "lenVar": 40
   },
   "kernels_config": {
    "python": {
     "delete_cmd_postfix": "",
     "delete_cmd_prefix": "del ",
     "library": "var_list.py",
     "varRefreshCmd": "print(var_dic_list())"
    },
    "r": {
     "delete_cmd_postfix": ") ",
     "delete_cmd_prefix": "rm(",
     "library": "var_list.r",
     "varRefreshCmd": "cat(var_dic_list()) "
    }
   },
   "types_to_exclude": [
    "module",
    "function",
    "builtin_function_or_method",
    "instance",
    "_Feature"
   ],
   "window_display": false
  }
 },
 "nbformat": 4,
 "nbformat_minor": 2
}
