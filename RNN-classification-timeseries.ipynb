{
 "cells": [
  {
   "cell_type": "code",
   "execution_count": 1,
   "metadata": {},
   "outputs": [
    {
     "name": "stderr",
     "output_type": "stream",
     "text": [
      "Using TensorFlow backend.\n"
     ]
    }
   ],
   "source": [
    "'''\n",
    "\n",
    "Author: Luca Pedrelli\n",
    "l.pedrelli@deeplearningitalia.com\n",
    "lucapedrelli@gmail.com\n",
    "\n",
    "Exercitation: RNN for Time Series\n",
    "\n",
    "NB: This file is realized exclusively for educational purposes\n",
    "\n",
    "'''\n",
    "\n",
    "#\n",
    "# binary classification of time series\n",
    "#\n",
    "\n",
    "import os\n",
    "os.environ[\"CUDA_VISIBLE_DEVICES\"]=\"-1\"\n",
    "\n",
    "import warnings\n",
    "warnings.filterwarnings(\"ignore\")\n",
    "\n",
    "from keras.models import Input, Model\n",
    "from keras.layers import Dense, Embedding, TimeDistributed\n",
    "from keras.layers import LSTM, GRU, Dropout\n",
    "from keras.datasets import imdb\n",
    "from keras.optimizers import Adam\n",
    "import numpy as np\n",
    "from scipy.io import loadmat\n",
    "from matplotlib.pyplot import plot\n"
   ]
  },
  {
   "cell_type": "code",
   "execution_count": null,
   "metadata": {},
   "outputs": [],
   "source": [
    "# The UCR Time Series Classification Archive.\n",
    "# http://www.cs.ucr.edu/~eamonn/time_series_data/\n",
    "data = loadmat('ECG.mat')\n",
    "x_train = data['X'] \n",
    "y_train = data['Y'][:,0]-1\n",
    "x_test = data['Xte']\n",
    "y_test = data['Yte'][:,0]-1\n",
    "\n",
    "x_train = x_train.astype('float32')\n",
    "x_test = x_test.astype('float32')\n",
    "y_train = y_train.astype('float32')\n",
    "y_test = y_test.astype('float32')"
   ]
  },
  {
   "cell_type": "code",
   "execution_count": null,
   "metadata": {},
   "outputs": [],
   "source": [
    "y_test.dtype"
   ]
  },
  {
   "cell_type": "code",
   "execution_count": null,
   "metadata": {},
   "outputs": [],
   "source": [
    "x_train.shape, x_test.shape, y_train.shape, y_test.shape"
   ]
  },
  {
   "cell_type": "code",
   "execution_count": null,
   "metadata": {},
   "outputs": [],
   "source": [
    "x_train = (x_train-np.mean(x_train))/np.std(x_train)\n",
    "x_test = (x_test-np.mean(x_test))/np.std(x_test)"
   ]
  },
  {
   "cell_type": "code",
   "execution_count": null,
   "metadata": {},
   "outputs": [],
   "source": [
    "\n",
    "# ================ MODEL ================\n",
    "inputs = Input(shape = (x_train.shape[-2], x_train.shape[-1],)) \n",
    "hidden = GRU(50, dropout=0.1, recurrent_dropout=0.1)(inputs)\n",
    "outputs =Dense(1, activation='sigmoid')(hidden)\n",
    "model = Model(inputs, outputs)\n",
    "# =======================================\n",
    "\n",
    "model.compile(loss='binary_crossentropy',\n",
    "              optimizer=Adam(),\n",
    "              metrics=['accuracy'])\n",
    "\n"
   ]
  },
  {
   "cell_type": "code",
   "execution_count": null,
   "metadata": {},
   "outputs": [],
   "source": []
  },
  {
   "cell_type": "code",
   "execution_count": null,
   "metadata": {},
   "outputs": [],
   "source": [
    "model.fit(x_train, y_train,\n",
    "          batch_size=1,\n",
    "          epochs=4,verbose=1,\n",
    "          validation_data=(x_test, y_test))\n",
    "score, acc = model.evaluate(x_test, y_test,\n",
    "                            batch_size=100)\n",
    "print('Test score:', score)\n",
    "print('Test accuracy:', acc)"
   ]
  }
 ],
 "metadata": {
  "kernelspec": {
   "display_name": "Python 3",
   "language": "python",
   "name": "python3"
  },
  "language_info": {
   "codemirror_mode": {
    "name": "ipython",
    "version": 3
   },
   "file_extension": ".py",
   "mimetype": "text/x-python",
   "name": "python",
   "nbconvert_exporter": "python",
   "pygments_lexer": "ipython3",
   "version": "3.6.8"
  },
  "varInspector": {
   "cols": {
    "lenName": 16,
    "lenType": 16,
    "lenVar": 40
   },
   "kernels_config": {
    "python": {
     "delete_cmd_postfix": "",
     "delete_cmd_prefix": "del ",
     "library": "var_list.py",
     "varRefreshCmd": "print(var_dic_list())"
    },
    "r": {
     "delete_cmd_postfix": ") ",
     "delete_cmd_prefix": "rm(",
     "library": "var_list.r",
     "varRefreshCmd": "cat(var_dic_list()) "
    }
   },
   "types_to_exclude": [
    "module",
    "function",
    "builtin_function_or_method",
    "instance",
    "_Feature"
   ],
   "window_display": false
  }
 },
 "nbformat": 4,
 "nbformat_minor": 2
}
