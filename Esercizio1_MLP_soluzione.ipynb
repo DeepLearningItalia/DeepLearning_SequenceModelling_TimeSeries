{
 "cells": [
  {
   "cell_type": "code",
   "execution_count": 1,
   "metadata": {},
   "outputs": [
    {
     "name": "stderr",
     "output_type": "stream",
     "text": [
      "Using TensorFlow backend.\n"
     ]
    }
   ],
   "source": [
    "'''\n",
    "\n",
    "Author: Luca Pedrelli\n",
    "l.pedrelli@deeplearningitalia.com\n",
    "lucapedrelli@gmail.com\n",
    "\n",
    "Exercice: A possible implementation of an MLP from scratch\n",
    "\n",
    "NB: This file is realized exclusively for educational purposes\n",
    "\n",
    "'''\n",
    "\n",
    "import warnings\n",
    "warnings.filterwarnings(\"ignore\")\n",
    "\n",
    "import os\n",
    "os.environ[\"CUDA_VISIBLE_DEVICES\"]=\"-1\"\n",
    "\n",
    "from matplotlib import pylab\n",
    "\n",
    "import keras\n",
    "import numpy as np\n",
    "\n",
    "np.random.seed(7)\n",
    "\n",
    "# Mean Squared Error\n",
    "def MSE(X,Y):\n",
    "    return  np.mean((X-Y)**2)"
   ]
  },
  {
   "cell_type": "code",
   "execution_count": null,
   "metadata": {},
   "outputs": [],
   "source": [
    "# load dataset\n",
    "from keras.datasets import mnist\n",
    "(x_train, y_train), (x_test, y_test) = mnist.load_data()"
   ]
  },
  {
   "cell_type": "code",
   "execution_count": null,
   "metadata": {},
   "outputs": [],
   "source": [
    "pylab.imshow(x_train[0,:,:])"
   ]
  },
  {
   "cell_type": "code",
   "execution_count": null,
   "metadata": {},
   "outputs": [],
   "source": [
    "pylab.imshow(x_train[1,:,:])"
   ]
  },
  {
   "cell_type": "code",
   "execution_count": null,
   "metadata": {},
   "outputs": [],
   "source": [
    "x_train = x_train.reshape((x_train.shape[0], x_train.shape[1]*x_train.shape[2]))\n",
    "x_test = x_test.reshape((x_test.shape[0], x_test.shape[1]*x_test.shape[2]))"
   ]
  },
  {
   "cell_type": "code",
   "execution_count": null,
   "metadata": {},
   "outputs": [],
   "source": [
    "x_test.shape, x_test.shape"
   ]
  },
  {
   "cell_type": "code",
   "execution_count": null,
   "metadata": {},
   "outputs": [],
   "source": [
    "inputs = np.concatenate([x_train, x_test], axis=0).T.astype('float32')\n",
    "targets = np.concatenate([y_train, y_test], axis=0).T.astype('float32')"
   ]
  },
  {
   "cell_type": "code",
   "execution_count": null,
   "metadata": {},
   "outputs": [],
   "source": [
    "inputs.shape, targets.shape"
   ]
  },
  {
   "cell_type": "code",
   "execution_count": null,
   "metadata": {},
   "outputs": [],
   "source": [
    "targets = keras.utils.to_categorical(targets, num_classes=None).T"
   ]
  },
  {
   "cell_type": "code",
   "execution_count": null,
   "metadata": {},
   "outputs": [],
   "source": [
    "TR_indexes = range(0,50)\n",
    "VL_indexes = range(50,60)\n",
    "TS_indexes = range(60,70)\n",
    "Full_TR_indexes = list(TR_indexes) + list(VL_indexes)\n",
    "Ninputs = inputs.shape[0]\n",
    "Noutputs = targets.shape[0]\n"
   ]
  },
  {
   "cell_type": "code",
   "execution_count": null,
   "metadata": {},
   "outputs": [],
   "source": [
    "inputs.shape, targets.shape"
   ]
  },
  {
   "cell_type": "code",
   "execution_count": null,
   "metadata": {},
   "outputs": [],
   "source": [
    "# Create network: initialize weights from [-1,1]\n",
    "Nlayers = 2\n",
    "Neurons = 100\n",
    "\n",
    "W = []\n",
    "layers = range(Nlayers)\n",
    "for l in layers:\n",
    "    if len(layers) == 1:\n",
    "        W.append(np.random.uniform(-1,1, (Noutputs, Ninputs+1)))\n",
    "    elif l == 0:\n",
    "        W.append(np.random.uniform(-1,1, (Neurons, Ninputs+1)))\n",
    "    elif l < Nlayers-1:\n",
    "        W.append(np.random.uniform(-1,1, (Neurons, Neurons+1)))\n",
    "    else:\n",
    "        W.append(np.random.uniform(-1,1, (Noutputs, Neurons+1))) "
   ]
  },
  {
   "cell_type": "markdown",
   "metadata": {},
   "source": [
    "$W^{(l+1)} = \\mathbf{tanh}(W^{(l)} O^{(l-1)})$ <br>\n",
    "$O^{(L)} = W_{L} O^{(l-1)}$"
   ]
  },
  {
   "cell_type": "code",
   "execution_count": null,
   "metadata": {},
   "outputs": [],
   "source": [
    "# Compute layers outputs\n",
    "def forward_pass(W, inputs):\n",
    "    otuputs = []\n",
    "    for l in range(len(W)):\n",
    "        if l==len(W)-1:\n",
    "            otuputs.append(W[l][:,:-1].dot(inputs) + np.expand_dims(W[l][:,-1], axis=1))\n",
    "        else:\n",
    "            otuputs.append(np.tanh(W[l][:,:-1].dot(inputs) + np.expand_dims(W[l][:,-1], axis=1)))\n",
    "        inputs = otuputs[-1]\n",
    "        \n",
    "    return otuputs"
   ]
  },
  {
   "cell_type": "code",
   "execution_count": null,
   "metadata": {},
   "outputs": [],
   "source": [
    "# Compute a gradient descent pass on a sample input\n",
    "def backward_pass(W, sample_input, single_target):\n",
    "\n",
    "    outputs = forward_pass(W, sample_input)\n",
    "\n",
    "    deltas = []\n",
    "    dWs = []\n",
    "\n",
    "    for l in reversed(range(len(W))):\n",
    "        delta = np.zeros(W[l].shape[0])\n",
    "        dW = np.zeros(W[l].shape)\n",
    "\n",
    "        for k in range(W[l].shape[0]):\n",
    "            if l == Nlayers-1:       \n",
    "                delta[k] = (single_target[k,0] - outputs[l][k,0])\n",
    "\n",
    "            else:\n",
    "                delta_kk = 0.0\n",
    "                for z in range(deltas[-1].shape[0]):\n",
    "                    delta_kk = delta_kk + deltas[-1][z] * W[l+1][z,k]\n",
    "\n",
    "                delta[k] = delta_kk * (1 - outputs[l][k,0]**2)\n",
    "\n",
    "            for i in range(W[l].shape[1]-1): # without bias\n",
    "                if l==0:\n",
    "                    dW[k,i] = delta[k] * sample_input[i,0]\n",
    "                else:\n",
    "                    dW[k,i] = delta[k] * outputs[l-1][i,0]\n",
    "\n",
    "            dW[k,-1] = dW[k,-1] + W[l][k,-1] # add bias\n",
    "\n",
    "        deltas.append(delta)\n",
    "        dWs.append(dW)\n",
    "    \n",
    "    return dWs\n"
   ]
  },
  {
   "cell_type": "code",
   "execution_count": null,
   "metadata": {},
   "outputs": [],
   "source": [
    "# leraning rate\n",
    "lr = 0.0001\n",
    "epochs = 20\n",
    "errors = []\n",
    "\n",
    "for epoch in range(epochs):\n",
    "    print(epoch)\n",
    "    for p in Full_TR_indexes:\n",
    "        dWs = backward_pass(W, inputs[:,p:p+1], targets[:,p:p+1])\n",
    "        for l in reversed(range(len(W))):\n",
    "            W[Nlayers-1-l] = W[Nlayers-1-l] + lr*dWs[l]\n",
    "\n",
    "    outputs = forward_pass(W, inputs)[-1]\n",
    "    errors.append(MSE(outputs[:, Full_TR_indexes], targets[:, Full_TR_indexes]))"
   ]
  },
  {
   "cell_type": "code",
   "execution_count": null,
   "metadata": {},
   "outputs": [],
   "source": [
    "# Plot Learning Curve\n",
    "pylab.plot(range(len(errors)),errors)"
   ]
  },
  {
   "cell_type": "code",
   "execution_count": null,
   "metadata": {},
   "outputs": [],
   "source": [
    "errors"
   ]
  },
  {
   "cell_type": "code",
   "execution_count": null,
   "metadata": {},
   "outputs": [],
   "source": []
  }
 ],
 "metadata": {
  "kernelspec": {
   "display_name": "Python 3",
   "language": "python",
   "name": "python3"
  },
  "language_info": {
   "codemirror_mode": {
    "name": "ipython",
    "version": 3
   },
   "file_extension": ".py",
   "mimetype": "text/x-python",
   "name": "python",
   "nbconvert_exporter": "python",
   "pygments_lexer": "ipython3",
   "version": "3.6.8"
  },
  "varInspector": {
   "cols": {
    "lenName": 16,
    "lenType": 16,
    "lenVar": 40
   },
   "kernels_config": {
    "python": {
     "delete_cmd_postfix": "",
     "delete_cmd_prefix": "del ",
     "library": "var_list.py",
     "varRefreshCmd": "print(var_dic_list())"
    },
    "r": {
     "delete_cmd_postfix": ") ",
     "delete_cmd_prefix": "rm(",
     "library": "var_list.r",
     "varRefreshCmd": "cat(var_dic_list()) "
    }
   },
   "types_to_exclude": [
    "module",
    "function",
    "builtin_function_or_method",
    "instance",
    "_Feature"
   ],
   "window_display": false
  }
 },
 "nbformat": 4,
 "nbformat_minor": 2
}
