{
 "cells": [
  {
   "cell_type": "code",
   "execution_count": null,
   "metadata": {},
   "outputs": [],
   "source": [
    "'''\n",
    "\n",
    "Author: Luca Pedrelli\n",
    "l.pedrelli@deeplearningitalia.com\n",
    "lucapedrelli@gmail.com\n",
    "\n",
    "Exercitation: Multivariate Prediction on Musical Tasks\n",
    "\n",
    "NB: This file is realized exclusively for educational purposes\n",
    "\n",
    "'''\n",
    "\n",
    "# MUSICAL TASKS INFO: \n",
    "# C.Gallicchio, A.Micheli, L.Pedrelli: Comparison between DeepESNs and gated RNNs on multivariate time-series prediction\n",
    "# https://arxiv.org/pdf/1812.11527.pdf\n",
    "\n",
    "import os\n",
    "os.environ[\"CUDA_VISIBLE_DEVICES\"]=\"-1\"\n",
    "\n",
    "import tensorflow\n",
    "from keras import backend as K\n",
    "import numpy as np\n",
    "import keras\n",
    "from keras.models import Sequential, Input, Model\n",
    "from keras.callbacks import ModelCheckpoint\n",
    "from keras.layers.core import Dense, Activation\n",
    "from keras.layers import TimeDistributed, Masking\n",
    "from keras.optimizers import SGD, Adam\n",
    "from keras import utils\n",
    "from keras.layers import LSTM, SimpleRNN, GRU\n",
    "from scipy.io import loadmat\n",
    "\n",
    "\n",
    "def pad_to_right(inputs):\n",
    "    inputs = [inp.T for inp in inputs]\n",
    "    \n",
    "    lengths = [inp.shape[0] for inp in inputs]\n",
    "    max_len = max(lengths)\n",
    "    pad_list = [np.concatenate([inp, np.zeros((max_len-inp.shape[0], inp.shape[1]))], axis=0) for inp in inputs]\n",
    "    return np.stack(pad_list, axis=0), lengths\n",
    "\n",
    "def load_pianomidi(path):\n",
    "    \n",
    "    data = loadmat(os.path.join(path, 'pianomidi.mat')) # load dataset\n",
    "\n",
    "    class Struct(object): pass\n",
    "    dataset = Struct()\n",
    "    dataset.name = data['dataset'][0][0][0][0]\n",
    "    dataset.inputs = data['dataset'][0][0][1][0].tolist()\n",
    "    dataset.targets = data['dataset'][0][0][2][0].tolist()\n",
    "    dataset.inputs_padding, dataset.inputs_lengths = pad_to_right(dataset.inputs)\n",
    "    dataset.targets_padding, dataset.targets_lengths = pad_to_right(dataset.targets)\n",
    "\n",
    "    # input dimension\n",
    "    Nu = dataset.inputs[0].shape[1]\n",
    "\n",
    "    # function used for model evaluation     \n",
    "    \n",
    "    # select the model that achieves the maximum accuracy on validation set\n",
    "    optimization_problem = np.argmax    \n",
    "    \n",
    "    \n",
    "    TR_indexes = range(87) # indexes for training, validation and test set in Piano-midi.de task\n",
    "    VL_indexes = range(87,99)\n",
    "    TS_indexes = range(99,124)\n",
    "    \n",
    "    return dataset, Nu, optimization_problem, TR_indexes, VL_indexes, TS_indexes\n",
    "\n",
    "def music_accuracy(y_true, y_pred):\n",
    "    threshold = 0.5;\n",
    "\n",
    "    X = y_pred\n",
    "    Y = y_true\n",
    "\n",
    "    X = K.transpose(X)\n",
    "    Y = K.transpose(Y)   \n",
    "    \n",
    "    Nsys = K.sum(K.cast(K.greater(X,threshold), y_pred.dtype), axis=0)\n",
    "    Nref = K.sum(K.cast(K.greater(Y,threshold), y_pred.dtype), axis=0)\n",
    "    Ncorr = K.sum(K.cast(K.greater(X,threshold), y_pred.dtype) * K.cast(K.greater(Y,threshold), y_pred.dtype), axis=0)\n",
    "    \n",
    "    \n",
    "    TP = K.sum(Ncorr)\n",
    "    FP = K.sum(Nsys-Ncorr)\n",
    "    FN = K.sum(Nref-Ncorr)\n",
    "    ACCURACY = TP/(TP + FP + FN)\n",
    "    return ACCURACY"
   ]
  },
  {
   "cell_type": "code",
   "execution_count": null,
   "metadata": {},
   "outputs": [],
   "source": [
    "path = ''\n",
    "dataset, Nu, optimization_problem, TR_indexes, VL_indexes, TS_indexes = load_pianomidi(path)"
   ]
  },
  {
   "cell_type": "code",
   "execution_count": null,
   "metadata": {},
   "outputs": [],
   "source": [
    "dataset.inputs_padding.shape, dataset.targets_padding.shape"
   ]
  },
  {
   "cell_type": "code",
   "execution_count": null,
   "metadata": {},
   "outputs": [],
   "source": [
    "dataset.inputs_padding = dataset.inputs_padding[:,0:100,:]\n",
    "dataset.targets_padding = dataset.targets_padding[:,0:100,:]"
   ]
  },
  {
   "cell_type": "code",
   "execution_count": null,
   "metadata": {},
   "outputs": [],
   "source": [
    "dataset.inputs_padding.shape, dataset.targets_padding.shape"
   ]
  },
  {
   "cell_type": "code",
   "execution_count": null,
   "metadata": {},
   "outputs": [],
   "source": [
    "\n",
    "NB_EPOCH = 1000\n",
    "BATCH_SIZE = 100\n",
    "VERBOSE = 2\n",
    "\n",
    "NB_CLASSES = 88\n",
    "INPUT_SHAPE = (dataset.inputs_padding.shape[1], dataset.inputs_padding.shape[2])"
   ]
  },
  {
   "cell_type": "code",
   "execution_count": null,
   "metadata": {},
   "outputs": [],
   "source": [
    "inputs = Input(shape=INPUT_SHAPE) \n",
    "mask = Masking(mask_value=0.0)(inputs)\n",
    "layer_h = GRU(10, return_sequences=True)(mask)"
   ]
  },
  {
   "cell_type": "code",
   "execution_count": null,
   "metadata": {},
   "outputs": [],
   "source": [
    "outputs = TimeDistributed(Dense(NB_CLASSES, activation='sigmoid'))(layer_h) "
   ]
  },
  {
   "cell_type": "code",
   "execution_count": null,
   "metadata": {},
   "outputs": [],
   "source": [
    "outputs"
   ]
  },
  {
   "cell_type": "code",
   "execution_count": null,
   "metadata": {},
   "outputs": [],
   "source": [
    "# try: clip norm, dropout, recurrent dropout, lr, Nr, epochs\n",
    "\n",
    "inputs = Input(shape=INPUT_SHAPE) \n",
    "mask = Masking(mask_value=0.0)(inputs)\n",
    "layer_h = GRU(10, return_sequences=True)(mask)\n",
    "outputs = TimeDistributed(Dense(NB_CLASSES, activation='sigmoid'))(layer_h) \n",
    "model = Model(inputs = inputs, outputs = outputs)\n",
    "\n",
    "\n",
    "model.compile(loss='categorical_crossentropy', metrics = [music_accuracy],\n",
    "              optimizer=Adam())\n",
    "\n",
    "model.summary()\n",
    "\n",
    "filepath=\"model.best_.hdf5\"\n",
    "mcp = ModelCheckpoint(filepath, monitor=\"val_music_accuracy\", verbose=1,\n",
    "                  save_best_only=True, save_weights_only=False, mode='max')\n",
    "es = keras.callbacks.EarlyStopping(monitor='val_loss', min_delta=0, patience=30, mode='min')\n"
   ]
  },
  {
   "cell_type": "code",
   "execution_count": null,
   "metadata": {},
   "outputs": [],
   "source": []
  },
  {
   "cell_type": "code",
   "execution_count": null,
   "metadata": {},
   "outputs": [],
   "source": [
    "history = model.fit(dataset.inputs_padding[TR_indexes,:,:], dataset.targets_padding[TR_indexes,:,:],\n",
    "                    batch_size=BATCH_SIZE, epochs=NB_EPOCH, #callbacks=[mcp],\n",
    "                    verbose=VERBOSE, shuffle=False, validation_data = (dataset.inputs_padding[VL_indexes,:,:], dataset.targets_padding[VL_indexes,:,:]), callbacks=[mcp, es])    \n"
   ]
  },
  {
   "cell_type": "code",
   "execution_count": null,
   "metadata": {},
   "outputs": [],
   "source": [
    "model.load_weights(filepath)\n",
    "\n",
    "score = model.evaluate(dataset.inputs_padding[TS_indexes,:,:], dataset.targets_padding[TS_indexes,:,:], batch_size = BATCH_SIZE)\n",
    "\n",
    "print(\"Test Accuracy: \", score[1])"
   ]
  },
  {
   "cell_type": "code",
   "execution_count": null,
   "metadata": {},
   "outputs": [],
   "source": []
  },
  {
   "cell_type": "code",
   "execution_count": null,
   "metadata": {},
   "outputs": [],
   "source": []
  }
 ],
 "metadata": {
  "kernelspec": {
   "display_name": "Python 3",
   "language": "python",
   "name": "python3"
  },
  "language_info": {
   "codemirror_mode": {
    "name": "ipython",
    "version": 3
   },
   "file_extension": ".py",
   "mimetype": "text/x-python",
   "name": "python",
   "nbconvert_exporter": "python",
   "pygments_lexer": "ipython3",
   "version": "3.6.8"
  },
  "varInspector": {
   "cols": {
    "lenName": 16,
    "lenType": 16,
    "lenVar": 40
   },
   "kernels_config": {
    "python": {
     "delete_cmd_postfix": "",
     "delete_cmd_prefix": "del ",
     "library": "var_list.py",
     "varRefreshCmd": "print(var_dic_list())"
    },
    "r": {
     "delete_cmd_postfix": ") ",
     "delete_cmd_prefix": "rm(",
     "library": "var_list.r",
     "varRefreshCmd": "cat(var_dic_list()) "
    }
   },
   "types_to_exclude": [
    "module",
    "function",
    "builtin_function_or_method",
    "instance",
    "_Feature"
   ],
   "window_display": false
  }
 },
 "nbformat": 4,
 "nbformat_minor": 2
}
